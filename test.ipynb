{
 "cells": [
  {
   "cell_type": "code",
   "execution_count": 20,
   "id": "5393d6da",
   "metadata": {},
   "outputs": [],
   "source": [
    "import torch \n",
    "import torch.nn as nn \n",
    "import torch.nn.functional as F \n",
    "from tqdm import tqdm \n",
    "from pathlib import Path"
   ]
  },
  {
   "cell_type": "code",
   "execution_count": 21,
   "id": "e35d5ddf",
   "metadata": {},
   "outputs": [],
   "source": [
    "# Hyperparams \n",
    "device = torch.device(\"cpu\")\n",
    "block_size = 64\n",
    "batch_size = 12\n"
   ]
  },
  {
   "cell_type": "code",
   "execution_count": 22,
   "metadata": {},
   "outputs": [],
   "source": [
    "# Data loader \n",
    "data_path = Path(\"data/tiny.txt\")\n",
    "assert data_path.exists(), \"Create data/text.txt with some text\"\n",
    "text = data_path.read_text(encoding=\"utf-8\")\n",
    "chars = sorted(list(set(text)))\n",
    "vocab_size = len(chars)\n",
    "stoi = {ch:i for i,ch in enumerate(chars)}  #This builds a dictionary (mapping) from each character (ch) to a number (i).\n",
    "itos = {i:ch for ch,i in stoi.items()} # This does the reverse of stoi: creates a dictionary that maps each number back to a character."
   ]
  },
  {
   "cell_type": "code",
   "execution_count": 23,
   "id": "59c932ec",
   "metadata": {},
   "outputs": [],
   "source": [
    "def encode(s):\n",
    "    \"\"\"\n",
    "    This function takes in a string as an input and returns its numerical representation based on the stoi mappings \n",
    "    \"\"\"\n",
    "    return [stoi[c] for c in s]\n",
    "\n",
    "def decode(l): \n",
    "    \"\"\"\n",
    "    Takes in a list of numbers and returns a string based in itos mappings \n",
    "    \"\"\"\n",
    "    return \"\".join(itos[i] for i in l)"
   ]
  },
  {
   "cell_type": "code",
   "execution_count": 24,
   "id": "86d0bd50",
   "metadata": {},
   "outputs": [
    {
     "data": {
      "text/plain": [
       "[25, 1, 29, 22, 33, 21, 28, 1, 35, 21, 28, 33, 1, 42, 45, 55, 44, 45, 50, 43]"
      ]
     },
     "execution_count": 24,
     "metadata": {},
     "output_type": "execute_result"
    }
   ],
   "source": [
    "pairs = encode(text)\n",
    "\n",
    "pairs[:20]"
   ]
  },
  {
   "cell_type": "code",
   "execution_count": 26,
   "id": "7e353085",
   "metadata": {},
   "outputs": [
    {
     "data": {
      "text/plain": [
       "'I OFTEN WENT fishing'"
      ]
     },
     "execution_count": 26,
     "metadata": {},
     "output_type": "execute_result"
    }
   ],
   "source": [
    "decode_pairs = decode(pairs)\n",
    "\n",
    "decode_pairs[:20]"
   ]
  },
  {
   "cell_type": "code",
   "execution_count": 5,
   "metadata": {},
   "outputs": [],
   "source": [
    "data = torch.tensor(encode(text), dtype=torch.long)\n",
    "n = len(data)\n",
    "train_data = data[: int(0.9 * n)]\n",
    "val_data = data[int(0.9 * n):]"
   ]
  },
  {
   "cell_type": "code",
   "execution_count": 28,
   "id": "59b247ad",
   "metadata": {},
   "outputs": [],
   "source": [
    "def get_batch(split):\n",
    "    src = train_data if split == \"train\" else val_data\n",
    "    ix = torch.randint(len(src) - block_size, (batch_size,))\n",
    "    x = torch.stack([src[i:i+block_size] for i in ix])\n",
    "    y = torch.stack([src[i+1:i+block_size+1] for i in ix])\n",
    "    return x.to(device), y.to(device)"
   ]
  },
  {
   "cell_type": "code",
   "execution_count": 29,
   "id": "b80531d6",
   "metadata": {},
   "outputs": [
    {
     "data": {
      "text/plain": [
       "tensor([[40,  1, 55, 51, 49, 41, 56, 44, 45, 50, 43,  8,  1, 24, 51, 59,  1, 37,\n",
       "         38, 51, 57, 56,  1, 56, 44, 41,  1, 56, 45, 49, 41,  1, 61, 51, 57,  1,\n",
       "         43, 37, 58, 41,  1, 37,  0,  1, 48, 37, 54, 43, 41,  1, 39, 51, 50, 56,\n",
       "         54, 45, 38, 57, 56, 45, 51, 50,  1, 56],\n",
       "        [ 1, 61, 51, 57,  1, 59, 41, 54, 41,  1, 38, 51, 54, 50,  1, 59, 37, 55,\n",
       "          0,  1, 52, 41, 54, 42, 51, 54, 49, 41, 40,  1, 38, 41, 39, 37, 57, 55,\n",
       "         41,  1, 61, 51, 57,  1, 59, 37, 50, 56, 41, 40,  1, 55, 51, 49, 41, 56,\n",
       "         44, 45, 50, 43,  8,  1, 24, 51, 59,  1],\n",
       "        [54, 56, 44,  1, 37,  1, 48, 51, 56,  1, 56, 51,  1, 37,  1, 44, 51, 56,\n",
       "         41, 48,  6,  1, 45, 55, 50, 65, 56,  1, 45, 56, 16, 65,  0,  1, 17, 55,\n",
       "          1, 25,  1, 56, 37, 48, 47, 41, 40,  6,  1, 25,  1, 59, 54, 51, 56, 41,\n",
       "          1, 56, 44, 41, 55, 41,  1, 56, 59, 51],\n",
       "        [51,  1, 48, 51, 51, 47,  1, 37, 56,  1, 61, 51, 57, 54,  1, 44, 51, 56,\n",
       "         41, 48,  1, 37, 55,  1, 25,  0,  1, 39, 37, 50,  1, 38, 54, 45, 50, 43,\n",
       "          1, 38, 61,  1, 56, 44, 41, 55, 41,  1, 48, 41, 39, 56, 57, 54, 41, 55,\n",
       "          8,  1, 33, 44, 37, 56,  1, 45, 55,  1],\n",
       "        [37, 50, 56, 41, 40, 14,  1, 21, 49, 41, 54, 55, 51, 50,  1, 52, 57, 55,\n",
       "         44, 41, 40,  0,  1, 37, 50, 40,  1, 44, 45, 55,  1, 55, 51, 50,  1, 52,\n",
       "         57, 48, 48, 41, 40,  8,  1, 18, 57, 56,  1, 56, 44, 41,  1, 39, 37, 48,\n",
       "         42,  1, 59, 37, 55,  1, 40, 51, 45, 50],\n",
       "        [56, 37, 50,  1, 39, 37, 49, 41,  1, 44, 51, 49, 41,  1, 42, 54, 51, 49,\n",
       "          1, 59, 51, 54, 47,  1, 51, 50, 41,  1, 41, 58, 41, 50, 45, 50, 43,  0,\n",
       "          1, 56, 51,  1, 42, 45, 50, 40,  1, 44, 45, 55,  1, 61, 51, 57, 50, 43,\n",
       "         41, 55, 56,  1, 55, 51, 50,  6,  1, 33],\n",
       "        [ 1, 38, 37, 50, 45, 55, 44,  1, 56, 44, 41,  1, 39, 44, 45, 48, 40,  1,\n",
       "         56, 51,  0,  1, 44, 45, 55,  1, 54, 51, 51, 49,  1, 37, 50, 40,  1, 56,\n",
       "         41, 48, 48,  1, 44, 45, 49,  1, 44, 41, 65, 40,  1, 38, 41, 56, 56, 41,\n",
       "         54,  1, 49, 37, 47, 41,  1, 57, 52,  1],\n",
       "        [ 1, 45, 56,  1, 59, 37, 55,  1, 50, 41, 39, 41, 55, 55, 37, 54, 61,  1,\n",
       "         56, 51,  1, 38, 37, 45, 56,  0,  1, 56, 44, 41,  1, 44, 51, 51, 47,  1,\n",
       "         56, 51,  1, 55, 57, 45, 56,  1, 56, 44, 41,  1, 42, 45, 55, 44,  8,  0,\n",
       "          1, 35, 44, 61,  1, 56, 37, 48, 47,  1],\n",
       "        [37, 50, 40,  1, 38, 37, 48, 48, 54, 51, 51, 49,  1, 51, 42,  1, 37,  1,\n",
       "         39, 41, 54, 56, 37, 45, 50,  1, 28, 41, 59,  1, 36, 51, 54, 47,  1, 44,\n",
       "         51, 56, 41, 48,  1, 42, 51, 54,  0,  1, 56, 59, 41, 50, 56, 61,  1, 50,\n",
       "         45, 43, 44, 56, 55,  1, 45, 50,  1, 41],\n",
       "        [41, 56, 44, 41, 54,  1, 61, 51, 57,  1, 37, 54, 41,  1, 40, 41, 37, 48,\n",
       "         45, 50, 43,  0,  1, 59, 45, 56, 44,  1, 39, 44, 45, 48, 40, 54, 41, 50,\n",
       "          1, 51, 54,  1, 39, 37, 48, 58, 41, 55,  1, 51, 54,  1, 39, 44, 45, 49,\n",
       "         52, 37, 50, 62, 41, 41, 55,  8,  1, 22],\n",
       "        [44, 51, 57, 54,  1, 37, 50, 40,  1, 42, 45, 50, 37, 48, 48, 61,  1, 43,\n",
       "         37, 58, 41,  1, 37, 59, 37, 61,  1,  3, 10, 12, 11,  1, 49, 45, 48, 48,\n",
       "         45, 51, 50,  6,  1, 48, 41, 37, 54, 50, 41, 40,  1, 41, 37, 54, 48, 61,\n",
       "          1, 45, 50,  0,  1, 48, 45, 42, 41,  1],\n",
       "        [50, 56,  8, 65,  0,  1, 33, 44, 41, 50,  1, 25,  1, 56, 51, 51, 47,  1,\n",
       "         37,  1, 48, 41, 56, 56, 41, 54, 44, 41, 37, 40,  1, 37, 50, 40,  1, 54,\n",
       "         37, 50,  1, 37,  1, 48, 45, 50, 41,  1, 56, 44, 54, 51, 57, 43, 44,  1,\n",
       "         56, 44, 41,  1, 39, 41, 50, 56, 54, 41]])"
      ]
     },
     "execution_count": 29,
     "metadata": {},
     "output_type": "execute_result"
    }
   ],
   "source": [
    "batches = get_batch(split=\"train\")\n",
    "\n",
    "batches[1]"
   ]
  },
  {
   "cell_type": "code",
   "execution_count": null,
   "id": "857ff437",
   "metadata": {},
   "outputs": [],
   "source": []
  }
 ],
 "metadata": {
  "kernelspec": {
   "display_name": "base",
   "language": "python",
   "name": "python3"
  },
  "language_info": {
   "codemirror_mode": {
    "name": "ipython",
    "version": 3
   },
   "file_extension": ".py",
   "mimetype": "text/x-python",
   "name": "python",
   "nbconvert_exporter": "python",
   "pygments_lexer": "ipython3",
   "version": "3.10.9"
  }
 },
 "nbformat": 4,
 "nbformat_minor": 5
}
